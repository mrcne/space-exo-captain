{
 "cells": [
  {
   "cell_type": "code",
   "execution_count": 4,
   "id": "c254941f",
   "metadata": {},
   "outputs": [
    {
     "name": "stdout",
     "output_type": "stream",
     "text": [
      "Requirement already satisfied: pandas in c:\\users\\pasu_ba\\downloads\\space-exo-captain\\.venv\\lib\\site-packages (2.3.3)\n",
      "Requirement already satisfied: matplotlib in c:\\users\\pasu_ba\\downloads\\space-exo-captain\\.venv\\lib\\site-packages (3.10.6)\n",
      "Requirement already satisfied: seaborn in c:\\users\\pasu_ba\\downloads\\space-exo-captain\\.venv\\lib\\site-packages (0.13.2)\n",
      "Requirement already satisfied: scikit-learn in c:\\users\\pasu_ba\\downloads\\space-exo-captain\\.venv\\lib\\site-packages (1.7.2)\n",
      "Requirement already satisfied: lightgbm in c:\\users\\pasu_ba\\downloads\\space-exo-captain\\.venv\\lib\\site-packages (4.6.0)\n",
      "Requirement already satisfied: plotly in c:\\users\\pasu_ba\\downloads\\space-exo-captain\\.venv\\lib\\site-packages (6.3.1)\n",
      "Requirement already satisfied: nbformat in c:\\users\\pasu_ba\\downloads\\space-exo-captain\\.venv\\lib\\site-packages (5.10.4)\n",
      "Requirement already satisfied: numpy>=1.26.0 in c:\\users\\pasu_ba\\downloads\\space-exo-captain\\.venv\\lib\\site-packages (from pandas) (2.3.3)\n",
      "Requirement already satisfied: python-dateutil>=2.8.2 in c:\\users\\pasu_ba\\downloads\\space-exo-captain\\.venv\\lib\\site-packages (from pandas) (2.9.0.post0)\n",
      "Requirement already satisfied: pytz>=2020.1 in c:\\users\\pasu_ba\\downloads\\space-exo-captain\\.venv\\lib\\site-packages (from pandas) (2025.2)\n",
      "Requirement already satisfied: tzdata>=2022.7 in c:\\users\\pasu_ba\\downloads\\space-exo-captain\\.venv\\lib\\site-packages (from pandas) (2025.2)\n",
      "Requirement already satisfied: contourpy>=1.0.1 in c:\\users\\pasu_ba\\downloads\\space-exo-captain\\.venv\\lib\\site-packages (from matplotlib) (1.3.3)\n",
      "Requirement already satisfied: cycler>=0.10 in c:\\users\\pasu_ba\\downloads\\space-exo-captain\\.venv\\lib\\site-packages (from matplotlib) (0.12.1)\n",
      "Requirement already satisfied: fonttools>=4.22.0 in c:\\users\\pasu_ba\\downloads\\space-exo-captain\\.venv\\lib\\site-packages (from matplotlib) (4.60.1)\n",
      "Requirement already satisfied: kiwisolver>=1.3.1 in c:\\users\\pasu_ba\\downloads\\space-exo-captain\\.venv\\lib\\site-packages (from matplotlib) (1.4.9)\n",
      "Requirement already satisfied: packaging>=20.0 in c:\\users\\pasu_ba\\downloads\\space-exo-captain\\.venv\\lib\\site-packages (from matplotlib) (25.0)\n",
      "Requirement already satisfied: pillow>=8 in c:\\users\\pasu_ba\\downloads\\space-exo-captain\\.venv\\lib\\site-packages (from matplotlib) (11.3.0)\n",
      "Requirement already satisfied: pyparsing>=2.3.1 in c:\\users\\pasu_ba\\downloads\\space-exo-captain\\.venv\\lib\\site-packages (from matplotlib) (3.2.5)\n",
      "Requirement already satisfied: scipy>=1.8.0 in c:\\users\\pasu_ba\\downloads\\space-exo-captain\\.venv\\lib\\site-packages (from scikit-learn) (1.16.2)\n",
      "Requirement already satisfied: joblib>=1.2.0 in c:\\users\\pasu_ba\\downloads\\space-exo-captain\\.venv\\lib\\site-packages (from scikit-learn) (1.5.2)\n",
      "Requirement already satisfied: threadpoolctl>=3.1.0 in c:\\users\\pasu_ba\\downloads\\space-exo-captain\\.venv\\lib\\site-packages (from scikit-learn) (3.6.0)\n",
      "Requirement already satisfied: narwhals>=1.15.1 in c:\\users\\pasu_ba\\downloads\\space-exo-captain\\.venv\\lib\\site-packages (from plotly) (2.6.0)\n",
      "Requirement already satisfied: fastjsonschema>=2.15 in c:\\users\\pasu_ba\\downloads\\space-exo-captain\\.venv\\lib\\site-packages (from nbformat) (2.21.2)\n",
      "Requirement already satisfied: jsonschema>=2.6 in c:\\users\\pasu_ba\\downloads\\space-exo-captain\\.venv\\lib\\site-packages (from nbformat) (4.25.1)\n",
      "Requirement already satisfied: jupyter-core!=5.0.*,>=4.12 in c:\\users\\pasu_ba\\downloads\\space-exo-captain\\.venv\\lib\\site-packages (from nbformat) (5.8.1)\n",
      "Requirement already satisfied: traitlets>=5.1 in c:\\users\\pasu_ba\\downloads\\space-exo-captain\\.venv\\lib\\site-packages (from nbformat) (5.14.3)\n",
      "Requirement already satisfied: attrs>=22.2.0 in c:\\users\\pasu_ba\\downloads\\space-exo-captain\\.venv\\lib\\site-packages (from jsonschema>=2.6->nbformat) (25.3.0)\n",
      "Requirement already satisfied: jsonschema-specifications>=2023.03.6 in c:\\users\\pasu_ba\\downloads\\space-exo-captain\\.venv\\lib\\site-packages (from jsonschema>=2.6->nbformat) (2025.9.1)\n",
      "Requirement already satisfied: referencing>=0.28.4 in c:\\users\\pasu_ba\\downloads\\space-exo-captain\\.venv\\lib\\site-packages (from jsonschema>=2.6->nbformat) (0.36.2)\n",
      "Requirement already satisfied: rpds-py>=0.7.1 in c:\\users\\pasu_ba\\downloads\\space-exo-captain\\.venv\\lib\\site-packages (from jsonschema>=2.6->nbformat) (0.27.1)\n",
      "Requirement already satisfied: platformdirs>=2.5 in c:\\users\\pasu_ba\\downloads\\space-exo-captain\\.venv\\lib\\site-packages (from jupyter-core!=5.0.*,>=4.12->nbformat) (4.4.0)\n",
      "Requirement already satisfied: pywin32>=300 in c:\\users\\pasu_ba\\downloads\\space-exo-captain\\.venv\\lib\\site-packages (from jupyter-core!=5.0.*,>=4.12->nbformat) (311)\n",
      "Requirement already satisfied: six>=1.5 in c:\\users\\pasu_ba\\downloads\\space-exo-captain\\.venv\\lib\\site-packages (from python-dateutil>=2.8.2->pandas) (1.17.0)\n",
      "Requirement already satisfied: typing-extensions>=4.4.0 in c:\\users\\pasu_ba\\downloads\\space-exo-captain\\.venv\\lib\\site-packages (from referencing>=0.28.4->jsonschema>=2.6->nbformat) (4.15.0)\n"
     ]
    }
   ],
   "source": [
    "!pip install pandas matplotlib seaborn scikit-learn lightgbm plotly -U nbformat"
   ]
  },
  {
   "cell_type": "code",
   "execution_count": null,
   "id": "e6fd29ea",
   "metadata": {},
   "outputs": [
    {
     "name": "stdout",
     "output_type": "stream",
     "text": [
      "Data shape: (7703, 87)\n",
      "Preprocessed X shape: (7703, 81)\n",
      "[LightGBM] [Info] Auto-choosing col-wise multi-threading, the overhead of testing was 0.002822 seconds.\n",
      "You can set `force_col_wise=true` to remove the overhead.\n",
      "[LightGBM] [Info] Total Bins 9712\n",
      "[LightGBM] [Info] Number of data points in the train set: 7703, number of used features: 47\n",
      "[LightGBM] [Info] Start training from score 1.049331\n",
      "Top 10 features:\n",
      "               MI   RFE  LGBM  mean_rank\n",
      "pl_rade       1.0   1.0   3.0   1.666667\n",
      "pl_trandep    2.0   9.0   1.0   4.000000\n",
      "pl_insol      9.0   7.0  11.0   9.000000\n",
      "st_pmra      24.0   2.0   2.0   9.333333\n",
      "st_logg       3.0  15.0  10.0   9.333333\n",
      "st_dist       6.0  12.0  16.0  11.333333\n",
      "pl_orbper    28.0   3.0   4.0  11.666667\n",
      "pl_tranmid   30.0   6.0   7.0  14.333333\n",
      "pl_radeerr1  12.0  24.0   8.0  14.666667\n",
      "pl_eqt        8.0  21.0  18.0  15.666667\n"
     ]
    },
    {
     "data": {
      "application/vnd.plotly.v1+json": {
       "config": {
        "plotlyServerURL": "https://plot.ly"
       },
       "data": [
        {
         "alignmentgroup": "True",
         "hovertemplate": "Method=MI<br>Feature=%{x}<br>Rank=%{text}<extra></extra>",
         "legendgroup": "MI",
         "marker": {
          "color": "#636efa",
          "pattern": {
           "shape": ""
          }
         },
         "name": "MI",
         "offsetgroup": "MI",
         "orientation": "v",
         "showlegend": true,
         "text": {
          "bdata": "AAAAAAAA8D8AAAAAAAAAQAAAAAAAACJAAAAAAAAAOEAAAAAAAAAIQAAAAAAAABhAAAAAAAAAPEAAAAAAAAA+QAAAAAAAAChAAAAAAAAAIEA=",
          "dtype": "f8"
         },
         "textposition": "outside",
         "texttemplate": "%{text:.2f}",
         "type": "bar",
         "x": [
          "pl_rade",
          "pl_trandep",
          "pl_insol",
          "st_pmra",
          "st_logg",
          "st_dist",
          "pl_orbper",
          "pl_tranmid",
          "pl_radeerr1",
          "pl_eqt"
         ],
         "xaxis": "x",
         "y": {
          "bdata": "AAAAAAAA8D8AAAAAAAAAQAAAAAAAACJAAAAAAAAAOEAAAAAAAAAIQAAAAAAAABhAAAAAAAAAPEAAAAAAAAA+QAAAAAAAAChAAAAAAAAAIEA=",
          "dtype": "f8"
         },
         "yaxis": "y"
        },
        {
         "alignmentgroup": "True",
         "hovertemplate": "Method=RFE<br>Feature=%{x}<br>Rank=%{text}<extra></extra>",
         "legendgroup": "RFE",
         "marker": {
          "color": "#EF553B",
          "pattern": {
           "shape": ""
          }
         },
         "name": "RFE",
         "offsetgroup": "RFE",
         "orientation": "v",
         "showlegend": true,
         "text": {
          "bdata": "AAAAAAAA8D8AAAAAAAAiQAAAAAAAABxAAAAAAAAAAEAAAAAAAAAuQAAAAAAAAChAAAAAAAAACEAAAAAAAAAYQAAAAAAAADhAAAAAAAAANUA=",
          "dtype": "f8"
         },
         "textposition": "outside",
         "texttemplate": "%{text:.2f}",
         "type": "bar",
         "x": [
          "pl_rade",
          "pl_trandep",
          "pl_insol",
          "st_pmra",
          "st_logg",
          "st_dist",
          "pl_orbper",
          "pl_tranmid",
          "pl_radeerr1",
          "pl_eqt"
         ],
         "xaxis": "x",
         "y": {
          "bdata": "AAAAAAAA8D8AAAAAAAAiQAAAAAAAABxAAAAAAAAAAEAAAAAAAAAuQAAAAAAAAChAAAAAAAAACEAAAAAAAAAYQAAAAAAAADhAAAAAAAAANUA=",
          "dtype": "f8"
         },
         "yaxis": "y"
        },
        {
         "alignmentgroup": "True",
         "hovertemplate": "Method=LGBM<br>Feature=%{x}<br>Rank=%{text}<extra></extra>",
         "legendgroup": "LGBM",
         "marker": {
          "color": "#00cc96",
          "pattern": {
           "shape": ""
          }
         },
         "name": "LGBM",
         "offsetgroup": "LGBM",
         "orientation": "v",
         "showlegend": true,
         "text": {
          "bdata": "AAAAAAAACEAAAAAAAADwPwAAAAAAACZAAAAAAAAAAEAAAAAAAAAkQAAAAAAAADBAAAAAAAAAEEAAAAAAAAAcQAAAAAAAACBAAAAAAAAAMkA=",
          "dtype": "f8"
         },
         "textposition": "outside",
         "texttemplate": "%{text:.2f}",
         "type": "bar",
         "x": [
          "pl_rade",
          "pl_trandep",
          "pl_insol",
          "st_pmra",
          "st_logg",
          "st_dist",
          "pl_orbper",
          "pl_tranmid",
          "pl_radeerr1",
          "pl_eqt"
         ],
         "xaxis": "x",
         "y": {
          "bdata": "AAAAAAAACEAAAAAAAADwPwAAAAAAACZAAAAAAAAAAEAAAAAAAAAkQAAAAAAAADBAAAAAAAAAEEAAAAAAAAAcQAAAAAAAACBAAAAAAAAAMkA=",
          "dtype": "f8"
         },
         "yaxis": "y"
        },
        {
         "line": {
          "color": "black",
          "dash": "dash",
          "width": 3
         },
         "marker": {
          "size": 10,
          "symbol": "circle"
         },
         "mode": "lines+markers",
         "name": "Mean Rank",
         "type": "scatter",
         "x": [
          "pl_rade",
          "pl_trandep",
          "pl_insol",
          "st_pmra",
          "st_logg",
          "st_dist",
          "pl_orbper",
          "pl_tranmid",
          "pl_radeerr1",
          "pl_eqt"
         ],
         "y": {
          "bdata": "q6qqqqqq+j8AAAAAAAAQQAAAAAAAACJAq6qqqqqqIkCrqqqqqqoiQKuqqqqqqiZAVVVVVVVVJ0CrqqqqqqosQFVVVVVVVS1AVVVVVVVVL0A=",
          "dtype": "f8"
         }
        }
       ],
       "layout": {
        "barmode": "group",
        "legend": {
         "title": {
          "text": "Method"
         },
         "tracegroupgap": 0
        },
        "template": {
         "data": {
          "bar": [
           {
            "error_x": {
             "color": "#2a3f5f"
            },
            "error_y": {
             "color": "#2a3f5f"
            },
            "marker": {
             "line": {
              "color": "#E5ECF6",
              "width": 0.5
             },
             "pattern": {
              "fillmode": "overlay",
              "size": 10,
              "solidity": 0.2
             }
            },
            "type": "bar"
           }
          ],
          "barpolar": [
           {
            "marker": {
             "line": {
              "color": "#E5ECF6",
              "width": 0.5
             },
             "pattern": {
              "fillmode": "overlay",
              "size": 10,
              "solidity": 0.2
             }
            },
            "type": "barpolar"
           }
          ],
          "carpet": [
           {
            "aaxis": {
             "endlinecolor": "#2a3f5f",
             "gridcolor": "white",
             "linecolor": "white",
             "minorgridcolor": "white",
             "startlinecolor": "#2a3f5f"
            },
            "baxis": {
             "endlinecolor": "#2a3f5f",
             "gridcolor": "white",
             "linecolor": "white",
             "minorgridcolor": "white",
             "startlinecolor": "#2a3f5f"
            },
            "type": "carpet"
           }
          ],
          "choropleth": [
           {
            "colorbar": {
             "outlinewidth": 0,
             "ticks": ""
            },
            "type": "choropleth"
           }
          ],
          "contour": [
           {
            "colorbar": {
             "outlinewidth": 0,
             "ticks": ""
            },
            "colorscale": [
             [
              0,
              "#0d0887"
             ],
             [
              0.1111111111111111,
              "#46039f"
             ],
             [
              0.2222222222222222,
              "#7201a8"
             ],
             [
              0.3333333333333333,
              "#9c179e"
             ],
             [
              0.4444444444444444,
              "#bd3786"
             ],
             [
              0.5555555555555556,
              "#d8576b"
             ],
             [
              0.6666666666666666,
              "#ed7953"
             ],
             [
              0.7777777777777778,
              "#fb9f3a"
             ],
             [
              0.8888888888888888,
              "#fdca26"
             ],
             [
              1,
              "#f0f921"
             ]
            ],
            "type": "contour"
           }
          ],
          "contourcarpet": [
           {
            "colorbar": {
             "outlinewidth": 0,
             "ticks": ""
            },
            "type": "contourcarpet"
           }
          ],
          "heatmap": [
           {
            "colorbar": {
             "outlinewidth": 0,
             "ticks": ""
            },
            "colorscale": [
             [
              0,
              "#0d0887"
             ],
             [
              0.1111111111111111,
              "#46039f"
             ],
             [
              0.2222222222222222,
              "#7201a8"
             ],
             [
              0.3333333333333333,
              "#9c179e"
             ],
             [
              0.4444444444444444,
              "#bd3786"
             ],
             [
              0.5555555555555556,
              "#d8576b"
             ],
             [
              0.6666666666666666,
              "#ed7953"
             ],
             [
              0.7777777777777778,
              "#fb9f3a"
             ],
             [
              0.8888888888888888,
              "#fdca26"
             ],
             [
              1,
              "#f0f921"
             ]
            ],
            "type": "heatmap"
           }
          ],
          "histogram": [
           {
            "marker": {
             "pattern": {
              "fillmode": "overlay",
              "size": 10,
              "solidity": 0.2
             }
            },
            "type": "histogram"
           }
          ],
          "histogram2d": [
           {
            "colorbar": {
             "outlinewidth": 0,
             "ticks": ""
            },
            "colorscale": [
             [
              0,
              "#0d0887"
             ],
             [
              0.1111111111111111,
              "#46039f"
             ],
             [
              0.2222222222222222,
              "#7201a8"
             ],
             [
              0.3333333333333333,
              "#9c179e"
             ],
             [
              0.4444444444444444,
              "#bd3786"
             ],
             [
              0.5555555555555556,
              "#d8576b"
             ],
             [
              0.6666666666666666,
              "#ed7953"
             ],
             [
              0.7777777777777778,
              "#fb9f3a"
             ],
             [
              0.8888888888888888,
              "#fdca26"
             ],
             [
              1,
              "#f0f921"
             ]
            ],
            "type": "histogram2d"
           }
          ],
          "histogram2dcontour": [
           {
            "colorbar": {
             "outlinewidth": 0,
             "ticks": ""
            },
            "colorscale": [
             [
              0,
              "#0d0887"
             ],
             [
              0.1111111111111111,
              "#46039f"
             ],
             [
              0.2222222222222222,
              "#7201a8"
             ],
             [
              0.3333333333333333,
              "#9c179e"
             ],
             [
              0.4444444444444444,
              "#bd3786"
             ],
             [
              0.5555555555555556,
              "#d8576b"
             ],
             [
              0.6666666666666666,
              "#ed7953"
             ],
             [
              0.7777777777777778,
              "#fb9f3a"
             ],
             [
              0.8888888888888888,
              "#fdca26"
             ],
             [
              1,
              "#f0f921"
             ]
            ],
            "type": "histogram2dcontour"
           }
          ],
          "mesh3d": [
           {
            "colorbar": {
             "outlinewidth": 0,
             "ticks": ""
            },
            "type": "mesh3d"
           }
          ],
          "parcoords": [
           {
            "line": {
             "colorbar": {
              "outlinewidth": 0,
              "ticks": ""
             }
            },
            "type": "parcoords"
           }
          ],
          "pie": [
           {
            "automargin": true,
            "type": "pie"
           }
          ],
          "scatter": [
           {
            "fillpattern": {
             "fillmode": "overlay",
             "size": 10,
             "solidity": 0.2
            },
            "type": "scatter"
           }
          ],
          "scatter3d": [
           {
            "line": {
             "colorbar": {
              "outlinewidth": 0,
              "ticks": ""
             }
            },
            "marker": {
             "colorbar": {
              "outlinewidth": 0,
              "ticks": ""
             }
            },
            "type": "scatter3d"
           }
          ],
          "scattercarpet": [
           {
            "marker": {
             "colorbar": {
              "outlinewidth": 0,
              "ticks": ""
             }
            },
            "type": "scattercarpet"
           }
          ],
          "scattergeo": [
           {
            "marker": {
             "colorbar": {
              "outlinewidth": 0,
              "ticks": ""
             }
            },
            "type": "scattergeo"
           }
          ],
          "scattergl": [
           {
            "marker": {
             "colorbar": {
              "outlinewidth": 0,
              "ticks": ""
             }
            },
            "type": "scattergl"
           }
          ],
          "scattermap": [
           {
            "marker": {
             "colorbar": {
              "outlinewidth": 0,
              "ticks": ""
             }
            },
            "type": "scattermap"
           }
          ],
          "scattermapbox": [
           {
            "marker": {
             "colorbar": {
              "outlinewidth": 0,
              "ticks": ""
             }
            },
            "type": "scattermapbox"
           }
          ],
          "scatterpolar": [
           {
            "marker": {
             "colorbar": {
              "outlinewidth": 0,
              "ticks": ""
             }
            },
            "type": "scatterpolar"
           }
          ],
          "scatterpolargl": [
           {
            "marker": {
             "colorbar": {
              "outlinewidth": 0,
              "ticks": ""
             }
            },
            "type": "scatterpolargl"
           }
          ],
          "scatterternary": [
           {
            "marker": {
             "colorbar": {
              "outlinewidth": 0,
              "ticks": ""
             }
            },
            "type": "scatterternary"
           }
          ],
          "surface": [
           {
            "colorbar": {
             "outlinewidth": 0,
             "ticks": ""
            },
            "colorscale": [
             [
              0,
              "#0d0887"
             ],
             [
              0.1111111111111111,
              "#46039f"
             ],
             [
              0.2222222222222222,
              "#7201a8"
             ],
             [
              0.3333333333333333,
              "#9c179e"
             ],
             [
              0.4444444444444444,
              "#bd3786"
             ],
             [
              0.5555555555555556,
              "#d8576b"
             ],
             [
              0.6666666666666666,
              "#ed7953"
             ],
             [
              0.7777777777777778,
              "#fb9f3a"
             ],
             [
              0.8888888888888888,
              "#fdca26"
             ],
             [
              1,
              "#f0f921"
             ]
            ],
            "type": "surface"
           }
          ],
          "table": [
           {
            "cells": {
             "fill": {
              "color": "#EBF0F8"
             },
             "line": {
              "color": "white"
             }
            },
            "header": {
             "fill": {
              "color": "#C8D4E3"
             },
             "line": {
              "color": "white"
             }
            },
            "type": "table"
           }
          ]
         },
         "layout": {
          "annotationdefaults": {
           "arrowcolor": "#2a3f5f",
           "arrowhead": 0,
           "arrowwidth": 1
          },
          "autotypenumbers": "strict",
          "coloraxis": {
           "colorbar": {
            "outlinewidth": 0,
            "ticks": ""
           }
          },
          "colorscale": {
           "diverging": [
            [
             0,
             "#8e0152"
            ],
            [
             0.1,
             "#c51b7d"
            ],
            [
             0.2,
             "#de77ae"
            ],
            [
             0.3,
             "#f1b6da"
            ],
            [
             0.4,
             "#fde0ef"
            ],
            [
             0.5,
             "#f7f7f7"
            ],
            [
             0.6,
             "#e6f5d0"
            ],
            [
             0.7,
             "#b8e186"
            ],
            [
             0.8,
             "#7fbc41"
            ],
            [
             0.9,
             "#4d9221"
            ],
            [
             1,
             "#276419"
            ]
           ],
           "sequential": [
            [
             0,
             "#0d0887"
            ],
            [
             0.1111111111111111,
             "#46039f"
            ],
            [
             0.2222222222222222,
             "#7201a8"
            ],
            [
             0.3333333333333333,
             "#9c179e"
            ],
            [
             0.4444444444444444,
             "#bd3786"
            ],
            [
             0.5555555555555556,
             "#d8576b"
            ],
            [
             0.6666666666666666,
             "#ed7953"
            ],
            [
             0.7777777777777778,
             "#fb9f3a"
            ],
            [
             0.8888888888888888,
             "#fdca26"
            ],
            [
             1,
             "#f0f921"
            ]
           ],
           "sequentialminus": [
            [
             0,
             "#0d0887"
            ],
            [
             0.1111111111111111,
             "#46039f"
            ],
            [
             0.2222222222222222,
             "#7201a8"
            ],
            [
             0.3333333333333333,
             "#9c179e"
            ],
            [
             0.4444444444444444,
             "#bd3786"
            ],
            [
             0.5555555555555556,
             "#d8576b"
            ],
            [
             0.6666666666666666,
             "#ed7953"
            ],
            [
             0.7777777777777778,
             "#fb9f3a"
            ],
            [
             0.8888888888888888,
             "#fdca26"
            ],
            [
             1,
             "#f0f921"
            ]
           ]
          },
          "colorway": [
           "#636efa",
           "#EF553B",
           "#00cc96",
           "#ab63fa",
           "#FFA15A",
           "#19d3f3",
           "#FF6692",
           "#B6E880",
           "#FF97FF",
           "#FECB52"
          ],
          "font": {
           "color": "#2a3f5f"
          },
          "geo": {
           "bgcolor": "white",
           "lakecolor": "white",
           "landcolor": "#E5ECF6",
           "showlakes": true,
           "showland": true,
           "subunitcolor": "white"
          },
          "hoverlabel": {
           "align": "left"
          },
          "hovermode": "closest",
          "mapbox": {
           "style": "light"
          },
          "paper_bgcolor": "white",
          "plot_bgcolor": "#E5ECF6",
          "polar": {
           "angularaxis": {
            "gridcolor": "white",
            "linecolor": "white",
            "ticks": ""
           },
           "bgcolor": "#E5ECF6",
           "radialaxis": {
            "gridcolor": "white",
            "linecolor": "white",
            "ticks": ""
           }
          },
          "scene": {
           "xaxis": {
            "backgroundcolor": "#E5ECF6",
            "gridcolor": "white",
            "gridwidth": 2,
            "linecolor": "white",
            "showbackground": true,
            "ticks": "",
            "zerolinecolor": "white"
           },
           "yaxis": {
            "backgroundcolor": "#E5ECF6",
            "gridcolor": "white",
            "gridwidth": 2,
            "linecolor": "white",
            "showbackground": true,
            "ticks": "",
            "zerolinecolor": "white"
           },
           "zaxis": {
            "backgroundcolor": "#E5ECF6",
            "gridcolor": "white",
            "gridwidth": 2,
            "linecolor": "white",
            "showbackground": true,
            "ticks": "",
            "zerolinecolor": "white"
           }
          },
          "shapedefaults": {
           "line": {
            "color": "#2a3f5f"
           }
          },
          "ternary": {
           "aaxis": {
            "gridcolor": "white",
            "linecolor": "white",
            "ticks": ""
           },
           "baxis": {
            "gridcolor": "white",
            "linecolor": "white",
            "ticks": ""
           },
           "bgcolor": "#E5ECF6",
           "caxis": {
            "gridcolor": "white",
            "linecolor": "white",
            "ticks": ""
           }
          },
          "title": {
           "x": 0.05
          },
          "xaxis": {
           "automargin": true,
           "gridcolor": "white",
           "linecolor": "white",
           "ticks": "",
           "title": {
            "standoff": 15
           },
           "zerolinecolor": "white",
           "zerolinewidth": 2
          },
          "yaxis": {
           "automargin": true,
           "gridcolor": "white",
           "linecolor": "white",
           "ticks": "",
           "title": {
            "standoff": 15
           },
           "zerolinecolor": "white",
           "zerolinewidth": 2
          }
         }
        },
        "title": {
         "text": "Top 10 Features by MI, RFE, and LGBM Rankings"
        },
        "xaxis": {
         "anchor": "y",
         "domain": [
          0,
          1
         ],
         "title": {
          "text": "Feature"
         }
        },
        "yaxis": {
         "anchor": "x",
         "autorange": "reversed",
         "domain": [
          0,
          1
         ],
         "title": {
          "text": "Rank"
         }
        }
       }
      }
     },
     "metadata": {},
     "output_type": "display_data"
    }
   ],
   "source": [
    "# =========================\n",
    "# Install necessary packages\n",
    "# =========================\n",
    "!pip install -q lightgbm plotly -U\n",
    "!pip install -q scikit-learn nbformat\n",
    "\n",
    "import pandas as pd\n",
    "from sklearn.feature_selection import mutual_info_regression, RFE\n",
    "from sklearn.ensemble import RandomForestRegressor\n",
    "import lightgbm as lgb\n",
    "import plotly.express as px\n",
    "\n",
    "# =========================\n",
    "# 2Load dataset\n",
    "df = pd.read_csv(\"C:/Users/pasu_ba/Downloads/exoplanet_data.csv\")\n",
    "\n",
    "print(\"Data shape:\", df.shape)\n",
    "\n",
    "# =========================\n",
    "# Separate target & drop metadata/text columns\n",
    "# =========================\n",
    "target_col = 'pl_pnum'  # <-- CHANGE to your target\n",
    "meta_cols = ['rowid', 'toi', 'toipfx', 'tid', 'ctoi_alias', 'toi_created', 'rowupdate']\n",
    "text_cols = ['rastr', 'decstr']  # string columns\n",
    "\n",
    "X = df.drop(columns=[target_col] + meta_cols + text_cols, errors='ignore')\n",
    "y = df[target_col]\n",
    "\n",
    "# =========================\n",
    "# 4️⃣ Handle missing values\n",
    "# =========================\n",
    "# Numeric columns → fill NaN with 0\n",
    "num_cols = X.select_dtypes(include=['int64','float64']).columns\n",
    "X[num_cols] = X[num_cols].fillna(0)\n",
    "\n",
    "# Categorical columns → fill NaN with 'missing'\n",
    "cat_cols = X.select_dtypes(include=['object']).columns\n",
    "X[cat_cols] = X[cat_cols].fillna('missing')\n",
    "\n",
    "# Convert categorical columns to numeric\n",
    "X = pd.get_dummies(X, drop_first=True)\n",
    "\n",
    "# Final check\n",
    "if X.isna().sum().sum() > 0:\n",
    "    print(\"Still missing values in X. Dropping remaining rows...\")\n",
    "    X = X.dropna()\n",
    "    y = y[X.index]\n",
    "\n",
    "print(\"Preprocessed X shape:\", X.shape)\n",
    "\n",
    "# =========================\n",
    "# 5️⃣ Feature ranking\n",
    "# =========================\n",
    "# Mutual Info Regression\n",
    "mi = mutual_info_regression(X, y, random_state=42)\n",
    "mi_rank = pd.Series(mi, index=X.columns).rank(ascending=False)\n",
    "\n",
    "# RFE with RandomForestRegressor\n",
    "estimator = RandomForestRegressor(n_estimators=100, random_state=42)\n",
    "rfe = RFE(estimator, n_features_to_select=1, step=1)\n",
    "rfe.fit(X, y)\n",
    "rfe_rank = pd.Series(rfe.ranking_, index=X.columns).rank(ascending=True)\n",
    "\n",
    "# LightGBM feature importance\n",
    "lgb_model = lgb.LGBMRegressor(random_state=42)\n",
    "lgb_model.fit(X, y)\n",
    "lgb_rank = pd.Series(lgb_model.feature_importances_, index=X.columns).rank(ascending=False)\n",
    "\n",
    "# Combine rankings\n",
    "rank_df = pd.DataFrame({\n",
    "    \"MI\": mi_rank,\n",
    "    \"RFE\": rfe_rank,\n",
    "    \"LGBM\": lgb_rank\n",
    "})\n",
    "rank_df[\"mean_rank\"] = rank_df.mean(axis=1)\n",
    "rank_df = rank_df.sort_values(\"mean_rank\")\n",
    "\n",
    "print(\"Top 10 features:\")\n",
    "print(rank_df.head(10))\n",
    "\n",
    "# =========================\n",
    "# 6️⃣ Plot top features with Plotly\n",
    "# =========================\n",
    "top_n = 10\n",
    "top_features = rank_df.head(top_n).reset_index()\n",
    "top_features.rename(columns={'index':'Feature'}, inplace=True)\n",
    "\n",
    "# Melt for grouped bar chart\n",
    "df_melted = top_features.melt(\n",
    "    id_vars='Feature',\n",
    "    value_vars=['MI','RFE','LGBM'],\n",
    "    var_name='Method',\n",
    "    value_name='Rank'\n",
    ")\n",
    "\n",
    "fig = px.bar(\n",
    "    df_melted,\n",
    "    x='Feature',\n",
    "    y='Rank',\n",
    "    color='Method',\n",
    "    barmode='group',\n",
    "    text='Rank',\n",
    "    title=f'Top {top_n} Features by MI, RFE, and LGBM Rankings'\n",
    ")\n",
    "fig.update_traces(texttemplate='%{text:.2f}', textposition='outside')\n",
    "\n",
    "# Overlay mean rank as a line\n",
    "fig.add_scatter(\n",
    "    x=top_features['Feature'],\n",
    "    y=top_features['mean_rank'],\n",
    "    mode='lines+markers',\n",
    "    name='Mean Rank',\n",
    "    line=dict(color='black', width=3, dash='dash'),\n",
    "    marker=dict(symbol='circle', size=10)\n",
    ")\n",
    "\n",
    "fig.update_layout(yaxis=dict(autorange=\"reversed\"))  # smaller rank = better\n",
    "fig.show()\n"
   ]
  }
 ],
 "metadata": {
  "kernelspec": {
   "display_name": ".venv",
   "language": "python",
   "name": "python3"
  },
  "language_info": {
   "codemirror_mode": {
    "name": "ipython",
    "version": 3
   },
   "file_extension": ".py",
   "mimetype": "text/x-python",
   "name": "python",
   "nbconvert_exporter": "python",
   "pygments_lexer": "ipython3",
   "version": "3.12.2"
  }
 },
 "nbformat": 4,
 "nbformat_minor": 5
}
